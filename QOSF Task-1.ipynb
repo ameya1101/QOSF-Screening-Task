{
 "cells": [
  {
   "cell_type": "markdown",
   "metadata": {
    "colab_type": "text",
    "id": "tJjTs4ClegQy"
   },
   "source": [
    "# Task 1\n",
    "\n",
    "Implement on a quantum simulator of your choice, the following four-qubit state $|\\psi(\\theta)\\rangle$:\n",
    "\n",
    "![The Variational Circuit](img/Circuit1.jpg)\n",
    "\n",
    "A combination of one green and one yellow block is called a layer. The number of such layers, denoted by $L$, is considered to be a parameter. If the green variational blocks are called even and the red ones are called odd, then\n",
    "\n",
    "**Even Blocks**\n",
    "\n",
    "![An Even Block](img/Circuit3.jpg)\n",
    "\n",
    "**Odd Blocks**\n",
    "\n",
    "![An Even Block](img/Circuit2.jpg)\n",
    "\n",
    "The angles $\\theta_{i, n}$ are variational parameters lying in the range $(0, 2\\pi)$, initialised at random. The double qubit gates are C-Z gates. \n",
    "\n",
    "Report with a plot, as a function of the number of layers $L$, the quantity $$ \\varepsilon = \\text{min}_\\theta || |\\psi(\\theta)\\rangle - |\\phi\\rangle || $$\n",
    "\n",
    "called the minimum distance. $|\\phi\\rangle$ is a randomly generated vector on 4 qubits and $|| \\cdot ||$ is the $\\mathcal{l}^2$ norm. The right set of parameters $\\theta_{i, n}$ can be found via a method of your choice."
   ]
  },
  {
   "cell_type": "code",
   "execution_count": 2,
   "metadata": {
    "colab": {},
    "colab_type": "code",
    "id": "1EkrYXruenXE"
   },
   "outputs": [],
   "source": [
    "#from IPython.display import clear_output\n",
    "\n",
    "#!pip install qiskit\n",
    "#clear_output()"
   ]
  },
  {
   "cell_type": "code",
   "execution_count": 3,
   "metadata": {
    "colab": {},
    "colab_type": "code",
    "id": "IH7qCgqsegQ0"
   },
   "outputs": [],
   "source": [
    "import numpy as np\n",
    "import matplotlib.pyplot as plt\n",
    "import time\n",
    "from datetime import timedelta\n",
    "from qiskit import QuantumCircuit\n",
    "from qiskit import Aer, execute\n",
    "from qiskit.quantum_info import random_statevector\n",
    "from qiskit.aqua.components.optimizers import ADAM"
   ]
  },
  {
   "cell_type": "code",
   "execution_count": 4,
   "metadata": {
    "colab": {},
    "colab_type": "code",
    "id": "hNFy8drWegQ5"
   },
   "outputs": [],
   "source": [
    "N = 4 #No of qubits in the system\n",
    "BACKEND = Aer.get_backend('statevector_simulator')\n",
    "SHOTS = 500\n",
    "L = 10 # The maximum number of layers to run the optimiser for"
   ]
  },
  {
   "cell_type": "code",
   "execution_count": 5,
   "metadata": {
    "colab": {},
    "colab_type": "code",
    "id": "XZB_rHkdegQ_"
   },
   "outputs": [],
   "source": [
    "def layer(layer_params: list, **kwargs) -> QuantumCircuit:\n",
    "    '''\n",
    "    Creates a layer in the circuit. A layer is defined as\n",
    "    an odd block and an even block.\n",
    "    \n",
    "    Parameters:\n",
    "        layer_params (list): a list of the parameters theta for the layer\n",
    "        **num (Optional[int]): Ordinal number for the layer.\n",
    "    \n",
    "    Returns:\n",
    "        layer_circ (QuantumCircuit): a circuit with the layers added.\n",
    "    '''\n",
    "    layer_circ = QuantumCircuit(N, name=f'Layer {kwargs[\"num\"]}');\n",
    "    for i in range(N):\n",
    "        layer_circ.rx(layer_params[i], i)\n",
    "    \n",
    "    for i in range(N):\n",
    "        layer_circ.rz(layer_params[N+i], i)\n",
    "        \n",
    "    for i in range(N):\n",
    "        for j in range(i, N):\n",
    "            if(j != i):\n",
    "                layer_circ.cz(i, j)\n",
    "    \n",
    "    return layer_circ"
   ]
  },
  {
   "cell_type": "code",
   "execution_count": 6,
   "metadata": {
    "colab": {},
    "colab_type": "code",
    "id": "SKm1BzUhegRD"
   },
   "outputs": [],
   "source": [
    "def assemble_circ(params: list) -> QuantumCircuit:\n",
    "    '''\n",
    "    Assembles the variational circuit. \n",
    "    \n",
    "    Parameters:\n",
    "        params (list): A list of theta parameters of the entire circuit.\n",
    "        \n",
    "    Returns:\n",
    "        variational_circ (QuantumCircuit): a circuit with the required\n",
    "            number of layers.\n",
    "    '''\n",
    "    variational_circ = QuantumCircuit(N, name=\"Variational Circuit\")\n",
    "    \n",
    "    for num in range(0, len(params), 2*N):\n",
    "        layer_i = layer(params[num:num+2*N], num=int(num/(2*N) + 1))\n",
    "        variational_circ.append(layer_i, range(N))\n",
    "    \n",
    "    return variational_circ\n",
    "\n",
    "def run_circ(circ: QuantumCircuit):\n",
    "    '''\n",
    "    Executes the circuit on the predefined backend.\n",
    "    \n",
    "    Parameters:\n",
    "        circ (QuantumCircuit): The circuit that is to be run.\n",
    "    \n",
    "    Returns:\n",
    "        measured_state (Statevector): the state obtained after execution of\n",
    "            the circuit.\n",
    "    '''\n",
    "    result = execute(experiments=circ, backend=BACKEND, shots=SHOTS).result()\n",
    "    measured_state = result.get_statevector()\n",
    "    \n",
    "    return measured_state\n",
    "\n",
    "def rand_circ():\n",
    "    '''\n",
    "    Initialises a QuantumCircuit object with a random statevector.\n",
    "    The random state is used later to define the cost function.\n",
    "    \n",
    "    Returns:\n",
    "        circ (QuantumCircuit): A quantum circuit initialised with a random statevector\n",
    "    '''\n",
    "    rand_state = random_statevector(N)\n",
    "    circ = QuantumCircuit(N, N)\n",
    "    circ.initialize(rand_state.data, [0, 3])\n",
    "    \n",
    "    return circ"
   ]
  },
  {
   "cell_type": "markdown",
   "metadata": {},
   "source": [
    "#### A Circuit Layer"
   ]
  },
  {
   "cell_type": "code",
   "execution_count": 7,
   "metadata": {},
   "outputs": [
    {
     "data": {
      "image/png": "[encoded data removed]",
      "text/plain": [
       "<Figure size 659.792x264.88 with 1 Axes>"
      ]
     },
     "execution_count": 7,
     "metadata": {},
     "output_type": "execute_result"
    }
   ],
   "source": [
    "sample_layer = layer(layer_params=[np.random.uniform(0, 2*np.pi) for _ in range(8)], num=1)\n",
    "sample_layer.draw(output='mpl')"
   ]
  },
  {
   "cell_type": "markdown",
   "metadata": {},
   "source": [
    "#### An assembled circuit with 3 layers, for example"
   ]
  },
  {
   "cell_type": "code",
   "execution_count": 8,
   "metadata": {},
   "outputs": [
    {
     "data": {
      "image/png": "[encoded data removed]",
      "text/plain": [
       "<Figure size 900.592x264.88 with 1 Axes>"
      ]
     },
     "execution_count": 8,
     "metadata": {},
     "output_type": "execute_result"
    }
   ],
   "source": [
    "sample_circuit = assemble_circ(params=[np.random.uniform(0, 2*np.pi) for _ in range(8*3)])\n",
    "sample_circuit.draw(output='mpl')"
   ]
  },
  {
   "cell_type": "code",
   "execution_count": 6,
   "metadata": {
    "colab": {},
    "colab_type": "code",
    "id": "up6D-Xr1egRH"
   },
   "outputs": [],
   "source": [
    "def state_distance(output_state, target_state) -> float:\n",
    "    '''\n",
    "    Defines the \"distance\" between two states as the l^2 norm of their\n",
    "        difference.\n",
    "    \n",
    "    Parameters:\n",
    "        output_state (Statevector)\n",
    "        target_state (Statevector)\n",
    "    \n",
    "    Returns:\n",
    "        state_norm (float): The distance between the two argument states.\n",
    "    '''\n",
    "    diff = (output_state - target_state)\n",
    "    return np.linalg.norm(diff, ord=2)\n",
    "\n",
    "def cost_function(params: list) -> float:\n",
    "    '''\n",
    "    Defines the cost function associated with the problem that is to be\n",
    "    passed to the optimiser.\n",
    "    \n",
    "    Parameters:\n",
    "        params (list): A list of all parameters (theta values) that\n",
    "            characterise the circuit\n",
    "            \n",
    "    Returns:\n",
    "        distance (float): the distance between the random state and the state\n",
    "            measured on the circuit object. \n",
    "    '''\n",
    "    global random_state\n",
    "    circ = assemble_circ(params)\n",
    "    measured_state = run_circ(circ=circ)\n",
    "    distance = state_distance(measured_state, random_state)\n",
    "    \n",
    "    return distance"
   ]
  },
  {
   "cell_type": "code",
   "execution_count": 7,
   "metadata": {
    "colab": {},
    "colab_type": "code",
    "id": "oEvd6PQJegRM"
   },
   "outputs": [],
   "source": [
    "def optimiser(maxiter: int = 1000, \n",
    "              tol: float = 0.0002):\n",
    "    '''\n",
    "    Defines and initialises the optimiser used. (Adam in this case)\n",
    "    \n",
    "    Parameters:\n",
    "        maxiter (int): Maximum number of iterations\n",
    "        tol (float): Tolerance for termination\n",
    "    \n",
    "    Returns:\n",
    "        opt (Optimizer): The instantiated Optimiser object.\n",
    "    \n",
    "    '''\n",
    "    return ADAM(maxiter=maxiter, tol=tol)"
   ]
  },
  {
   "cell_type": "code",
   "execution_count": 13,
   "metadata": {
    "colab": {},
    "colab_type": "code",
    "id": "lp7F4ozwegRQ"
   },
   "outputs": [],
   "source": [
    "def run_optimiser() -> list:\n",
    "    '''\n",
    "    Runs the optimiser for different number of layers and calculates the \n",
    "    minimum distance for each case\n",
    "    \n",
    "    Returns:\n",
    "        A list containing the optimize results. Each result contains three values: point, value and nfev.\n",
    "               point: is a 1D numpy.ndarray[float] containing the solution\n",
    "               value: is a float with the objective function value\n",
    "               nfev: number of objective function calls made if available or None\n",
    "    '''\n",
    "    min_distances = []\n",
    "    \n",
    "    adam = optimiser()\n",
    "\n",
    "    for num_layer in range(1, L+1):\n",
    "        print(\"Started depth \", num_layer)\n",
    "\n",
    "        start_time = time.monotonic()\n",
    "        params = [np.random.uniform(0, 2*np.pi) for _ in range(2*N*num_layer)]\n",
    "\n",
    "        bounds = []\n",
    "        for _ in params:\n",
    "            bounds.append((0, 2*np.pi))\n",
    "\n",
    "        optimised_result = adam.optimize(num_vars=2*N*num_layer, objective_function=cost_function,\n",
    "                                           initial_point=params, variable_bounds=bounds)\n",
    "\n",
    "        min_distances.append(optimised_result)\n",
    "        end_time = time.monotonic()\n",
    "\n",
    "        delta_t = timedelta(seconds=end_time - start_time).seconds\n",
    "        print(\"Finished depth {} in {} minutes\".format(num_layer, (delta_t/60)))\n",
    "        \n",
    "    return min_distances"
   ]
  },
  {
   "cell_type": "code",
   "execution_count": 9,
   "metadata": {
    "colab": {},
    "colab_type": "code",
    "id": "d1XEymItegRV"
   },
   "outputs": [],
   "source": [
    "# Initialise the random state\n",
    "random_state = run_circ(circ=rand_circ())"
   ]
  },
  {
   "cell_type": "code",
   "execution_count": 14,
   "metadata": {
    "colab": {
     "base_uri": "https://localhost:8080/",
     "height": 357
    },
    "colab_type": "code",
    "id": "8HgG4Sal3aa5",
    "outputId": "24a79b4a-19b7-402a-f6f5-8629e732ceda"
   },
   "outputs": [
    {
     "name": "stdout",
     "output_type": "stream",
     "text": [
      "Started depth  1\n",
      "Finished depth 1 in 2.3666666666666667 minutes\n",
      "Started depth  2\n",
      "Finished depth 2 in 5.9 minutes\n",
      "Started depth  3\n",
      "Finished depth 3 in 11.016666666666667 minutes\n",
      "Started depth  4\n",
      "Finished depth 4 in 17.583333333333332 minutes\n",
      "Started depth  5\n",
      "Finished depth 5 in 26.4 minutes\n",
      "Started depth  6\n",
      "Finished depth 6 in 35.68333333333333 minutes\n",
      "Started depth  7\n",
      "Finished depth 7 in 41.6 minutes\n",
      "Started depth  8\n",
      "Finished depth 8 in 36.8 minutes\n",
      "Started depth  9\n",
      "Finished depth 9 in 39.916666666666664 minutes\n",
      "Started depth  10\n",
      "Finished depth 10 in 83.08333333333333 minutes\n"
     ]
    }
   ],
   "source": [
    "# Run the optimiser\n",
    "distances = run_optimiser()"
   ]
  },
  {
   "cell_type": "code",
   "execution_count": 16,
   "metadata": {
    "colab": {
     "base_uri": "https://localhost:8080/",
     "height": 475
    },
    "colab_type": "code",
    "id": "kQeQYexiegRc",
    "outputId": "a4899f86-224f-489d-e793-362b2c6477f2"
   },
   "outputs": [
    {
     "data": {
      "text/plain": [
       "Text(0, 0.5, 'Minimum Distance')"
      ]
     },
     "execution_count": 16,
     "metadata": {
      "tags": []
     },
     "output_type": "execute_result"
    },
    {
     "data": {
      "image/png": "[encoded data removed]",
      "text/plain": [
       "<Figure size 648x504 with 1 Axes>"
      ]
     },
     "metadata": {
      "needs_background": "light",
      "tags": []
     },
     "output_type": "display_data"
    }
   ],
   "source": [
    "# Plot the variation of minimum distance with circuit depth\n",
    "x = list(range(1, L+1))\n",
    "y = [item[1] for item in distances]\n",
    "\n",
    "plt.figure(figsize=(9, 7))\n",
    "plt.plot(x, y)\n",
    "plt.title(\"Minimum Distance vs Number of Layers - ADAM\")\n",
    "plt.xlabel(\"Number of layers\")\n",
    "plt.ylabel(\"Minimum Distance\")"
   ]
  },
  {
   "cell_type": "code",
   "execution_count": null,
   "metadata": {
    "colab": {},
    "colab_type": "code",
    "id": "bBvxD-7VQEU9"
   },
   "outputs": [],
   "source": []
  }
 ],
 "metadata": {
  "colab": {
   "collapsed_sections": [],
   "name": "QOSF - Task 1.ipynb",
   "provenance": []
  },
  "kernelspec": {
   "display_name": "Python 3",
   "language": "python",
   "name": "python3"
  },
  "language_info": {
   "codemirror_mode": {
    "name": "ipython",
    "version": 3
   },
   "file_extension": ".py",
   "mimetype": "text/x-python",
   "name": "python",
   "nbconvert_exporter": "python",
   "pygments_lexer": "ipython3",
   "version": "3.8.3"
  }
 },
 "nbformat": 4,
 "nbformat_minor": 1
}
